{
 "metadata": {
  "name": "",
  "signature": "sha256:33ce1f1ff92b1c1d220b8f5c9914e87df7bd83202114a7949e21ce7aef357fc6"
 },
 "nbformat": 3,
 "nbformat_minor": 0,
 "worksheets": [
  {
   "cells": [
    {
     "cell_type": "code",
     "collapsed": false,
     "input": [
      "import MySQLdb as db\n",
      "from pandas import DataFrame\n",
      "from pandas.io.sql import read_sql"
     ],
     "language": "python",
     "metadata": {},
     "outputs": [],
     "prompt_number": 3
    },
    {
     "cell_type": "code",
     "collapsed": false,
     "input": [
      "query = 'SELECT rev_user, rev_ip, page_id, page_namespace, name FROM revision ' + \\\n",
      "    'INNER JOIN page ON page.page_id=revision.rev_page ' + \\\n",
      "    'INNER JOIN namespaces ON page.page_namespace=namespaces.code'\n",
      "\n",
      "con = db.connect('localhost','wikiuser','wikiuser','scowiki_20140705')\n",
      "data     = read_sql(query, con)\n",
      "con.close()"
     ],
     "language": "python",
     "metadata": {},
     "outputs": [],
     "prompt_number": 4
    },
    {
     "cell_type": "code",
     "collapsed": false,
     "input": [
      "data.head()"
     ],
     "language": "python",
     "metadata": {},
     "outputs": [
      {
       "html": [
        "<div style=\"max-height:1000px;max-width:1500px;overflow:auto;\">\n",
        "<table border=\"1\" class=\"dataframe\">\n",
        "  <thead>\n",
        "    <tr style=\"text-align: right;\">\n",
        "      <th></th>\n",
        "      <th>rev_user</th>\n",
        "      <th>rev_ip</th>\n",
        "      <th>page_id</th>\n",
        "      <th>page_namespace</th>\n",
        "      <th>name</th>\n",
        "    </tr>\n",
        "  </thead>\n",
        "  <tbody>\n",
        "    <tr>\n",
        "      <th>0</th>\n",
        "      <td> 0</td>\n",
        "      <td> 127.0.0.1</td>\n",
        "      <td> 41930</td>\n",
        "      <td> 0</td>\n",
        "      <td> </td>\n",
        "    </tr>\n",
        "    <tr>\n",
        "      <th>1</th>\n",
        "      <td> 1</td>\n",
        "      <td>      None</td>\n",
        "      <td> 41930</td>\n",
        "      <td> 0</td>\n",
        "      <td> </td>\n",
        "    </tr>\n",
        "    <tr>\n",
        "      <th>2</th>\n",
        "      <td> 2</td>\n",
        "      <td>      None</td>\n",
        "      <td> 41930</td>\n",
        "      <td> 0</td>\n",
        "      <td> </td>\n",
        "    </tr>\n",
        "    <tr>\n",
        "      <th>3</th>\n",
        "      <td> 2</td>\n",
        "      <td>      None</td>\n",
        "      <td> 41930</td>\n",
        "      <td> 0</td>\n",
        "      <td> </td>\n",
        "    </tr>\n",
        "    <tr>\n",
        "      <th>4</th>\n",
        "      <td> 2</td>\n",
        "      <td>      None</td>\n",
        "      <td>    10</td>\n",
        "      <td> 0</td>\n",
        "      <td> </td>\n",
        "    </tr>\n",
        "  </tbody>\n",
        "</table>\n",
        "</div>"
       ],
       "metadata": {},
       "output_type": "pyout",
       "prompt_number": 5,
       "text": [
        "   rev_user     rev_ip  page_id  page_namespace name\n",
        "0         0  127.0.0.1    41930               0     \n",
        "1         1       None    41930               0     \n",
        "2         2       None    41930               0     \n",
        "3         2       None    41930               0     \n",
        "4         2       None       10               0     "
       ]
      }
     ],
     "prompt_number": 5
    },
    {
     "cell_type": "code",
     "collapsed": false,
     "input": [
      "%pylab inline"
     ],
     "language": "python",
     "metadata": {},
     "outputs": [
      {
       "output_type": "stream",
       "stream": "stdout",
       "text": [
        "Populating the interactive namespace from numpy and matplotlib\n"
       ]
      }
     ],
     "prompt_number": 6
    },
    {
     "cell_type": "code",
     "collapsed": false,
     "input": [
      "# From IP locations.ipynb\n",
      "\n",
      "import ipaddress\n",
      "import bisect\n",
      "\n",
      "ip_data = []\n",
      "with open('/home/carlosm/Projects/BeyondTheBook/dbip-country.csv', 'r') as fin:\n",
      "    for line in fin:\n",
      "        line = line.strip()\n",
      "        cols = line.split(',')\n",
      "\n",
      "        fromIP_str = cols[0].strip('\"')\n",
      "        toIP_str = cols[1].strip('\"')\n",
      "        country = cols[2].strip('\"')\n",
      "\n",
      "        fromIP = ipaddress.ip_address(unicode(fromIP_str))\n",
      "        toIP = ipaddress.ip_address(unicode(toIP_str))\n",
      "\n",
      "        fromIP_int = int(fromIP)\n",
      "        toIP_int = int(toIP)\n",
      "\n",
      "        ip_data.append((fromIP_int, toIP_int, country))\n",
      "        \n",
      "lowerAdd = np.array([ x[0] for x in ip_data ])\n",
      "upperAdd = np.array([ x[1] for x in ip_data ])\n",
      "countryCodes = np.array([ x[2] for x in ip_data ])"
     ],
     "language": "python",
     "metadata": {},
     "outputs": [],
     "prompt_number": 7
    },
    {
     "cell_type": "code",
     "collapsed": false,
     "input": [
      "def getCountryCode(ip_str, lowerAdd, upperAdd, countryCodes):\n",
      "    '''\n",
      "    For a given ip address (as string), locate its country code.\n",
      "    \n",
      "    ip_str        Target IP address (as string)\n",
      "    lowerAdd      List of lower ranges\n",
      "    upperAdd      List of upper ranges\n",
      "    countryCodes  Range country codes\n",
      "    \n",
      "    Return the target countr code (or NaN if not know.)\n",
      "    '''\n",
      "    # In case it not a valid IP\n",
      "    if ip_str is None:\n",
      "        return None\n",
      "    \n",
      "    ip = ipaddress.ip_address(unicode(ip_str))\n",
      "    ip_int = int(ip)\n",
      "    \n",
      "    idx = bisect.bisect_left(upperAdd, ip_int)\n",
      "    \n",
      "    if lowerAdd[idx]<=ip_int and ip_int<=upperAdd[idx]:\n",
      "        return countryCodes[idx]\n",
      "    else:\n",
      "        ip_t = str(ip_int)\n",
      "        ip_l = str(lowerAdd[idx])\n",
      "        ip_h = str(upperAdd[idx])\n",
      "        print 'Address ' + ip_t + ' is not in range [' + ip_l + ', ' +  ip_h + ']'\n",
      "        return None"
     ],
     "language": "python",
     "metadata": {},
     "outputs": [],
     "prompt_number": 8
    },
    {
     "cell_type": "code",
     "collapsed": false,
     "input": [
      "data['country'] = data['rev_ip'].apply(lambda ip: getCountryCode(ip, lowerAdd, upperAdd, countryCodes))\n",
      "data['country'] = data['country'].fillna('Unknown')"
     ],
     "language": "python",
     "metadata": {},
     "outputs": [],
     "prompt_number": 9
    },
    {
     "cell_type": "code",
     "collapsed": false,
     "input": [
      "con = db.connect('localhost','wikiuser','wikiuser','scowiki_20140705')\n",
      "\n",
      "for page_id in data['page_id'].unique():\n",
      "    page_revs = data[data['page_id']==page_id]\n",
      "    nRevs = len(page_revs)\n",
      "    cRevs = page_revs.groupby('country').size() / nRevs\n",
      "\n",
      "    # Insert into country_contrib\n",
      "    # Values: page_id, country (cRevs.keys()), contributions(cRevs.keys())\n",
      "    df = DataFrame(cRevs, columns=['contribution'] )\n",
      "    df['page_id'] = page_id\n",
      "    df.to_sql(con=con, name='country_contrib', if_exists='append', flavor='mysql')\n",
      "\n",
      "con.close()"
     ],
     "language": "python",
     "metadata": {},
     "outputs": [
      {
       "output_type": "stream",
       "stream": "stdout",
       "text": [
        "\n"
       ]
      }
     ],
     "prompt_number": 12
    }
   ],
   "metadata": {}
  }
 ]
}